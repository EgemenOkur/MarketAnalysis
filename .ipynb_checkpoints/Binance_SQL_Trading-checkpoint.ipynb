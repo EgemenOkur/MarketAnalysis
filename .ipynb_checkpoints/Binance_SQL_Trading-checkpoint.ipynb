{
 "cells": [
  {
   "cell_type": "code",
   "execution_count": 1,
   "id": "9c36bbc8",
   "metadata": {},
   "outputs": [],
   "source": [
    "#Libraries\n",
    "\n",
    "import pandas as pd \n",
    "import sqlalchemy\n",
    "from binance.client import Client\n",
    "from binance import BinanceSocketManager"
   ]
  },
  {
   "cell_type": "code",
   "execution_count": 3,
   "id": "3bed3b35",
   "metadata": {},
   "outputs": [
    {
     "ename": "NameError",
     "evalue": "name 'api_key' is not defined",
     "output_type": "error",
     "traceback": [
      "\u001b[0;31m---------------------------------------------------------------------------\u001b[0m",
      "\u001b[0;31mNameError\u001b[0m                                 Traceback (most recent call last)",
      "Input \u001b[0;32mIn [3]\u001b[0m, in \u001b[0;36m<module>\u001b[0;34m\u001b[0m\n\u001b[0;32m----> 1\u001b[0m client \u001b[38;5;241m=\u001b[39m Client(\u001b[43mapi_key\u001b[49m,api_secret)\n",
      "\u001b[0;31mNameError\u001b[0m: name 'api_key' is not defined"
     ]
    }
   ],
   "source": [
    "client = Client(api_key,api_secret)"
   ]
  },
  {
   "cell_type": "code",
   "execution_count": 4,
   "id": "79236fb7",
   "metadata": {},
   "outputs": [],
   "source": [
    "bsm = BinanceSocketManager(client)"
   ]
  },
  {
   "cell_type": "code",
   "execution_count": 5,
   "id": "c8456ece",
   "metadata": {},
   "outputs": [
    {
     "ename": "TypeError",
     "evalue": "As of 3.10, the *loop* parameter was removed from Queue() since it is no longer necessary",
     "output_type": "error",
     "traceback": [
      "\u001b[0;31m---------------------------------------------------------------------------\u001b[0m",
      "\u001b[0;31mTypeError\u001b[0m                                 Traceback (most recent call last)",
      "Input \u001b[0;32mIn [5]\u001b[0m, in \u001b[0;36m<module>\u001b[0;34m\u001b[0m\n\u001b[0;32m----> 1\u001b[0m socket \u001b[38;5;241m=\u001b[39m \u001b[43mbsm\u001b[49m\u001b[38;5;241;43m.\u001b[39;49m\u001b[43mtrade_socket\u001b[49m\u001b[43m(\u001b[49m\u001b[38;5;124;43m'\u001b[39;49m\u001b[38;5;124;43mBTCUSDT\u001b[39;49m\u001b[38;5;124;43m'\u001b[39;49m\u001b[43m)\u001b[49m\n",
      "File \u001b[0;32m/Library/Frameworks/Python.framework/Versions/3.10/lib/python3.10/site-packages/binance/streams.py:626\u001b[0m, in \u001b[0;36mBinanceSocketManager.trade_socket\u001b[0;34m(self, symbol)\u001b[0m\n\u001b[1;32m    596\u001b[0m \u001b[38;5;28;01mdef\u001b[39;00m \u001b[38;5;21mtrade_socket\u001b[39m(\u001b[38;5;28mself\u001b[39m, symbol: \u001b[38;5;28mstr\u001b[39m):\n\u001b[1;32m    597\u001b[0m     \u001b[38;5;124;03m\"\"\"Start a websocket for symbol trade data\u001b[39;00m\n\u001b[1;32m    598\u001b[0m \n\u001b[1;32m    599\u001b[0m \u001b[38;5;124;03m    https://github.com/binance-exchange/binance-official-api-docs/blob/master/web-socket-streams.md#trade-streams\u001b[39;00m\n\u001b[0;32m   (...)\u001b[0m\n\u001b[1;32m    623\u001b[0m \n\u001b[1;32m    624\u001b[0m \u001b[38;5;124;03m    \"\"\"\u001b[39;00m\n\u001b[0;32m--> 626\u001b[0m     \u001b[38;5;28;01mreturn\u001b[39;00m \u001b[38;5;28;43mself\u001b[39;49m\u001b[38;5;241;43m.\u001b[39;49m\u001b[43m_get_socket\u001b[49m\u001b[43m(\u001b[49m\u001b[43msymbol\u001b[49m\u001b[38;5;241;43m.\u001b[39;49m\u001b[43mlower\u001b[49m\u001b[43m(\u001b[49m\u001b[43m)\u001b[49m\u001b[43m \u001b[49m\u001b[38;5;241;43m+\u001b[39;49m\u001b[43m \u001b[49m\u001b[38;5;124;43m'\u001b[39;49m\u001b[38;5;124;43m@trade\u001b[39;49m\u001b[38;5;124;43m'\u001b[39;49m\u001b[43m)\u001b[49m\n",
      "File \u001b[0;32m/Library/Frameworks/Python.framework/Versions/3.10/lib/python3.10/site-packages/binance/streams.py:346\u001b[0m, in \u001b[0;36mBinanceSocketManager._get_socket\u001b[0;34m(self, path, stream_url, prefix, is_binary, socket_type)\u001b[0m\n\u001b[1;32m    344\u001b[0m conn_id \u001b[38;5;241m=\u001b[39m \u001b[38;5;124mf\u001b[39m\u001b[38;5;124m'\u001b[39m\u001b[38;5;132;01m{\u001b[39;00msocket_type\u001b[38;5;132;01m}\u001b[39;00m\u001b[38;5;124m_\u001b[39m\u001b[38;5;132;01m{\u001b[39;00mpath\u001b[38;5;132;01m}\u001b[39;00m\u001b[38;5;124m'\u001b[39m\n\u001b[1;32m    345\u001b[0m \u001b[38;5;28;01mif\u001b[39;00m conn_id \u001b[38;5;129;01mnot\u001b[39;00m \u001b[38;5;129;01min\u001b[39;00m \u001b[38;5;28mself\u001b[39m\u001b[38;5;241m.\u001b[39m_conns:\n\u001b[0;32m--> 346\u001b[0m     \u001b[38;5;28mself\u001b[39m\u001b[38;5;241m.\u001b[39m_conns[conn_id] \u001b[38;5;241m=\u001b[39m \u001b[43mReconnectingWebsocket\u001b[49m\u001b[43m(\u001b[49m\n\u001b[1;32m    347\u001b[0m \u001b[43m        \u001b[49m\u001b[43mloop\u001b[49m\u001b[38;5;241;43m=\u001b[39;49m\u001b[38;5;28;43mself\u001b[39;49m\u001b[38;5;241;43m.\u001b[39;49m\u001b[43m_loop\u001b[49m\u001b[43m,\u001b[49m\n\u001b[1;32m    348\u001b[0m \u001b[43m        \u001b[49m\u001b[43mpath\u001b[49m\u001b[38;5;241;43m=\u001b[39;49m\u001b[43mpath\u001b[49m\u001b[43m,\u001b[49m\n\u001b[1;32m    349\u001b[0m \u001b[43m        \u001b[49m\u001b[43murl\u001b[49m\u001b[38;5;241;43m=\u001b[39;49m\u001b[38;5;28;43mself\u001b[39;49m\u001b[38;5;241;43m.\u001b[39;49m\u001b[43m_get_stream_url\u001b[49m\u001b[43m(\u001b[49m\u001b[43mstream_url\u001b[49m\u001b[43m)\u001b[49m\u001b[43m,\u001b[49m\n\u001b[1;32m    350\u001b[0m \u001b[43m        \u001b[49m\u001b[43mprefix\u001b[49m\u001b[38;5;241;43m=\u001b[39;49m\u001b[43mprefix\u001b[49m\u001b[43m,\u001b[49m\n\u001b[1;32m    351\u001b[0m \u001b[43m        \u001b[49m\u001b[43mexit_coro\u001b[49m\u001b[38;5;241;43m=\u001b[39;49m\u001b[38;5;28;43mself\u001b[39;49m\u001b[38;5;241;43m.\u001b[39;49m\u001b[43m_exit_socket\u001b[49m\u001b[43m,\u001b[49m\n\u001b[1;32m    352\u001b[0m \u001b[43m        \u001b[49m\u001b[43mis_binary\u001b[49m\u001b[38;5;241;43m=\u001b[39;49m\u001b[43mis_binary\u001b[49m\n\u001b[1;32m    353\u001b[0m \u001b[43m    \u001b[49m\u001b[43m)\u001b[49m\n\u001b[1;32m    355\u001b[0m \u001b[38;5;28;01mreturn\u001b[39;00m \u001b[38;5;28mself\u001b[39m\u001b[38;5;241m.\u001b[39m_conns[conn_id]\n",
      "File \u001b[0;32m/Library/Frameworks/Python.framework/Versions/3.10/lib/python3.10/site-packages/binance/streams.py:62\u001b[0m, in \u001b[0;36mReconnectingWebsocket.__init__\u001b[0;34m(self, loop, url, path, prefix, is_binary, exit_coro)\u001b[0m\n\u001b[1;32m     60\u001b[0m \u001b[38;5;28mself\u001b[39m\u001b[38;5;241m.\u001b[39mws: Optional[ws\u001b[38;5;241m.\u001b[39mWebSocketClientProtocol] \u001b[38;5;241m=\u001b[39m \u001b[38;5;28;01mNone\u001b[39;00m\n\u001b[1;32m     61\u001b[0m \u001b[38;5;28mself\u001b[39m\u001b[38;5;241m.\u001b[39mws_state \u001b[38;5;241m=\u001b[39m WSListenerState\u001b[38;5;241m.\u001b[39mINITIALISING\n\u001b[0;32m---> 62\u001b[0m \u001b[38;5;28mself\u001b[39m\u001b[38;5;241m.\u001b[39m_queue \u001b[38;5;241m=\u001b[39m \u001b[43masyncio\u001b[49m\u001b[38;5;241;43m.\u001b[39;49m\u001b[43mQueue\u001b[49m\u001b[43m(\u001b[49m\u001b[43mloop\u001b[49m\u001b[38;5;241;43m=\u001b[39;49m\u001b[38;5;28;43mself\u001b[39;49m\u001b[38;5;241;43m.\u001b[39;49m\u001b[43m_loop\u001b[49m\u001b[43m)\u001b[49m\n\u001b[1;32m     63\u001b[0m \u001b[38;5;28mself\u001b[39m\u001b[38;5;241m.\u001b[39m_handle_read_loop \u001b[38;5;241m=\u001b[39m \u001b[38;5;28;01mNone\u001b[39;00m\n",
      "File \u001b[0;32m/Library/Frameworks/Python.framework/Versions/3.10/lib/python3.10/asyncio/queues.py:33\u001b[0m, in \u001b[0;36mQueue.__init__\u001b[0;34m(self, maxsize, loop)\u001b[0m\n\u001b[1;32m     32\u001b[0m \u001b[38;5;28;01mdef\u001b[39;00m \u001b[38;5;21m__init__\u001b[39m(\u001b[38;5;28mself\u001b[39m, maxsize\u001b[38;5;241m=\u001b[39m\u001b[38;5;241m0\u001b[39m, \u001b[38;5;241m*\u001b[39m, loop\u001b[38;5;241m=\u001b[39mmixins\u001b[38;5;241m.\u001b[39m_marker):\n\u001b[0;32m---> 33\u001b[0m     \u001b[38;5;28;43msuper\u001b[39;49m\u001b[43m(\u001b[49m\u001b[43m)\u001b[49m\u001b[38;5;241;43m.\u001b[39;49m\u001b[38;5;21;43m__init__\u001b[39;49m\u001b[43m(\u001b[49m\u001b[43mloop\u001b[49m\u001b[38;5;241;43m=\u001b[39;49m\u001b[43mloop\u001b[49m\u001b[43m)\u001b[49m\n\u001b[1;32m     34\u001b[0m     \u001b[38;5;28mself\u001b[39m\u001b[38;5;241m.\u001b[39m_maxsize \u001b[38;5;241m=\u001b[39m maxsize\n\u001b[1;32m     36\u001b[0m     \u001b[38;5;66;03m# Futures.\u001b[39;00m\n",
      "File \u001b[0;32m/Library/Frameworks/Python.framework/Versions/3.10/lib/python3.10/asyncio/mixins.py:17\u001b[0m, in \u001b[0;36m_LoopBoundMixin.__init__\u001b[0;34m(self, loop)\u001b[0m\n\u001b[1;32m     15\u001b[0m \u001b[38;5;28;01mdef\u001b[39;00m \u001b[38;5;21m__init__\u001b[39m(\u001b[38;5;28mself\u001b[39m, \u001b[38;5;241m*\u001b[39m, loop\u001b[38;5;241m=\u001b[39m_marker):\n\u001b[1;32m     16\u001b[0m     \u001b[38;5;28;01mif\u001b[39;00m loop \u001b[38;5;129;01mis\u001b[39;00m \u001b[38;5;129;01mnot\u001b[39;00m _marker:\n\u001b[0;32m---> 17\u001b[0m         \u001b[38;5;28;01mraise\u001b[39;00m \u001b[38;5;167;01mTypeError\u001b[39;00m(\n\u001b[1;32m     18\u001b[0m             \u001b[38;5;124mf\u001b[39m\u001b[38;5;124m'\u001b[39m\u001b[38;5;124mAs of 3.10, the *loop* parameter was removed from \u001b[39m\u001b[38;5;124m'\u001b[39m\n\u001b[1;32m     19\u001b[0m             \u001b[38;5;124mf\u001b[39m\u001b[38;5;124m'\u001b[39m\u001b[38;5;132;01m{\u001b[39;00m\u001b[38;5;28mtype\u001b[39m(\u001b[38;5;28mself\u001b[39m)\u001b[38;5;241m.\u001b[39m\u001b[38;5;18m__name__\u001b[39m\u001b[38;5;132;01m}\u001b[39;00m\u001b[38;5;124m() since it is no longer necessary\u001b[39m\u001b[38;5;124m'\u001b[39m\n\u001b[1;32m     20\u001b[0m         )\n",
      "\u001b[0;31mTypeError\u001b[0m: As of 3.10, the *loop* parameter was removed from Queue() since it is no longer necessary"
     ]
    }
   ],
   "source": [
    "socket = bsm.trade_socket('BTCUSDT')"
   ]
  },
  {
   "cell_type": "code",
   "execution_count": 11,
   "id": "6b22b15a",
   "metadata": {},
   "outputs": [
    {
     "ename": "NameError",
     "evalue": "name 'socket' is not defined",
     "output_type": "error",
     "traceback": [
      "\u001b[0;31m---------------------------------------------------------------------------\u001b[0m",
      "\u001b[0;31mNameError\u001b[0m                                 Traceback (most recent call last)",
      "Input \u001b[0;32mIn [11]\u001b[0m, in \u001b[0;36m<module>\u001b[0;34m\u001b[0m\n\u001b[1;32m      1\u001b[0m \u001b[38;5;28;01mwhile\u001b[39;00m \u001b[38;5;28;01mTrue\u001b[39;00m:\n\u001b[0;32m----> 2\u001b[0m     \u001b[38;5;28;01mawait\u001b[39;00m socket\u001b[38;5;241m.\u001b[39m\u001b[38;5;21m__aenter__\u001b[39m()\n\u001b[1;32m      3\u001b[0m     msg \u001b[38;5;241m=\u001b[39m \u001b[38;5;28;01mawait\u001b[39;00m socket\u001b[38;5;241m.\u001b[39mrecv()\n\u001b[1;32m      4\u001b[0m     frame \u001b[38;5;241m=\u001b[39m createframe(msg)\n",
      "\u001b[0;31mNameError\u001b[0m: name 'socket' is not defined"
     ]
    }
   ],
   "source": [
    "while True:\n",
    "    await socket.__aenter__()\n",
    "    msg = await socket.recv()\n",
    "    frame = createframe(msg)\n",
    "    frame.to_sql('BTCUSDT', engine, if_exists=\"append\", index=False)\n",
    "    print(frame)"
   ]
  },
  {
   "cell_type": "code",
   "execution_count": 8,
   "id": "86ac9358",
   "metadata": {},
   "outputs": [],
   "source": [
    "def createframe(msg):\n",
    "    df = pd.DataFrame([msg])\n",
    "    df = df.loc[:, ['s','E','p']]\n",
    "    df.Price = df.Price.astype(float)\n",
    "    df.Time = pdf.to_datetime(df.Time, unit='ms')\n",
    "    return df"
   ]
  },
  {
   "cell_type": "code",
   "execution_count": 10,
   "id": "c3b59f39",
   "metadata": {},
   "outputs": [],
   "source": [
    "engine = sqlalchemy.create_engine('sqlite:///BTCUSDTstream.db')"
   ]
  },
  {
   "cell_type": "code",
   "execution_count": null,
   "id": "a052c0a4",
   "metadata": {},
   "outputs": [],
   "source": [
    "def strategy(entry, lookback, qty, open_position=false)\n",
    "    while True:\n",
    "        df = pdf.read_sql('BTCUSDT', engine)\n",
    "        lookbackperiod = df.iloc[-lookback:]\n",
    "        cumret = (lookbackperiod.Price.pct_change() +1).cumprod()-1\n",
    "        if not open_position:\n",
    "            if cumret[cumret.last_valid_index()] > entry:\n",
    "                order = client.create_order(symbol='BTCUSDT',\n",
    "                                           side='BUY',\n",
    "                                           type='MARKET',\n",
    "                                            quantity=qty)\n",
    "                print(order)\n",
    "                open_position = True\n",
    "                break\n",
    "        if open_position:\n",
    "            while True:\n",
    "                df = pd.read_sql('BTCUSDT' engine)\n",
    "                sincebuy = df.loc[df.Time > ]"
   ]
  }
 ],
 "metadata": {
  "kernelspec": {
   "display_name": "Python 3 (ipykernel)",
   "language": "python",
   "name": "python3"
  },
  "language_info": {
   "codemirror_mode": {
    "name": "ipython",
    "version": 3
   },
   "file_extension": ".py",
   "mimetype": "text/x-python",
   "name": "python",
   "nbconvert_exporter": "python",
   "pygments_lexer": "ipython3",
   "version": "3.10.1"
  }
 },
 "nbformat": 4,
 "nbformat_minor": 5
}
