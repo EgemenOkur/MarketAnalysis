{
 "cells": [
  {
   "cell_type": "code",
   "execution_count": 2,
   "id": "840d67ab",
   "metadata": {},
   "outputs": [
    {
     "name": "stdout",
     "output_type": "stream",
     "text": [
      "1818 979\n",
      "\n",
      "(1717, 100)\n"
     ]
    },
    {
     "name": "stderr",
     "output_type": "stream",
     "text": [
      "2022-01-15 10:52:15.467939: I tensorflow/core/platform/cpu_feature_guard.cc:151] This TensorFlow binary is optimized with oneAPI Deep Neural Network Library (oneDNN) to use the following CPU instructions in performance-critical operations:  AVX2 FMA\n",
      "To enable them in other operations, rebuild TensorFlow with the appropriate compiler flags.\n"
     ]
    },
    {
     "name": "stdout",
     "output_type": "stream",
     "text": [
      "Model: \"sequential\"\n",
      "_________________________________________________________________\n",
      " Layer (type)                Output Shape              Param #   \n",
      "=================================================================\n",
      " lstm (LSTM)                 (None, 100, 50)           10400     \n",
      "                                                                 \n",
      " lstm_1 (LSTM)               (None, 100, 50)           20200     \n",
      "                                                                 \n",
      " lstm_2 (LSTM)               (None, 50)                20200     \n",
      "                                                                 \n",
      " dense (Dense)               (None, 1)                 51        \n",
      "                                                                 \n",
      "=================================================================\n",
      "Total params: 50,851\n",
      "Trainable params: 50,851\n",
      "Non-trainable params: 0\n",
      "_________________________________________________________________\n"
     ]
    },
    {
     "data": {
      "image/png": "[encoded data removed]",
      "text/plain": [
       "<Figure size 432x288 with 1 Axes>"
      ]
     },
     "metadata": {
      "needs_background": "light"
     },
     "output_type": "display_data"
    }
   ],
   "source": [
    "### Data Collection\n",
    "import pandas_datareader as pdr\n",
    "import pandas as pd\n",
    "import matplotlib.pyplot as plt\n",
    "from sklearn.preprocessing import MinMaxScaler\n",
    "import numpy as np\n",
    "### Create the Stacked LSTM model\n",
    "from tensorflow.keras.models import Sequential\n",
    "from tensorflow.keras.layers import Dense\n",
    "from tensorflow.keras.layers import LSTM\n",
    "\n",
    "key=\"\"\n",
    "\n",
    "\n",
    "df = pdr.DataReader(\"AAPL\",\n",
    "                       start='2010-12-1',\n",
    "                       end='2022-01-10',\n",
    "                       data_source='yahoo')\n",
    "df.to_csv('AAPL.csv')\n",
    "df=pd.read_csv('AAPL.csv')\n",
    "df1=df.reset_index()['Close']\n",
    "\n",
    "scaler=MinMaxScaler(feature_range=(0,1))\n",
    "df1=scaler.fit_transform(np.array(df1).reshape(-1,1))\n",
    "\n",
    "plt.plot(df1)\n",
    "#plt.show()\n",
    "\n",
    "##splitting dataset into train and test split\n",
    "training_size=int(len(df1)*0.65)\n",
    "test_size=len(df1)-training_size\n",
    "train_data,test_data=df1[0:training_size,:],df1[training_size:len(df1),:1]\n",
    "\n",
    "print(training_size,test_size)\n",
    "\n",
    "def create_dataset(dataset, time_step=1):\n",
    "\tdataX, dataY = [], []\n",
    "\tfor i in range(len(dataset)-time_step-1):\n",
    "\t\ta = dataset[i:(i+time_step), 0]   ###i=0, 0,1,2,3-----99   100\n",
    "\t\tdataX.append(a)\n",
    "\t\tdataY.append(dataset[i + time_step, 0])\n",
    "\treturn np.array(dataX), np.array(dataY)\n",
    "\n",
    "# reshape into X=t,t+1,t+2,t+3 and Y=t+4\n",
    "time_step = 100\n",
    "X_train, y_train = create_dataset(train_data, time_step)\n",
    "X_test, ytest = create_dataset(test_data, time_step)\n",
    "\n",
    "print()\n",
    "print(X_train.shape)\n",
    "\n",
    "# reshape input to be [samples, time steps, features] which is required for LSTM\n",
    "X_train =X_train.reshape(X_train.shape[0],X_train.shape[1] , 1)\n",
    "X_test = X_test.reshape(X_test.shape[0],X_test.shape[1] , 1)\n",
    "\n",
    "model=Sequential()\n",
    "model.add(LSTM(50,return_sequences=True,input_shape=(100,1)))\n",
    "model.add(LSTM(50,return_sequences=True))\n",
    "model.add(LSTM(50))\n",
    "model.add(Dense(1))\n",
    "model.compile(loss='mean_squared_error',optimizer='adam')\n",
    "\n",
    "model.summary()"
   ]
  },
  {
   "cell_type": "code",
   "execution_count": 3,
   "id": "5dc9277c",
   "metadata": {},
   "outputs": [
    {
     "name": "stdout",
     "output_type": "stream",
     "text": [
      "Epoch 1/100\n",
      "27/27 [==============================] - 7s 139ms/step - loss: 0.0013 - val_loss: 0.0016\n",
      "Epoch 2/100\n",
      "27/27 [==============================] - 3s 103ms/step - loss: 8.8942e-05 - val_loss: 0.0018\n",
      "Epoch 3/100\n",
      "27/27 [==============================] - 3s 103ms/step - loss: 5.2613e-05 - val_loss: 0.0023\n",
      "Epoch 4/100\n",
      "27/27 [==============================] - 3s 109ms/step - loss: 4.8151e-05 - val_loss: 0.0030\n",
      "Epoch 5/100\n",
      "27/27 [==============================] - 3s 113ms/step - loss: 4.6599e-05 - val_loss: 0.0022\n",
      "Epoch 6/100\n",
      "27/27 [==============================] - 3s 109ms/step - loss: 4.8919e-05 - val_loss: 0.0024\n",
      "Epoch 7/100\n",
      "27/27 [==============================] - 3s 113ms/step - loss: 4.1795e-05 - val_loss: 0.0025\n",
      "Epoch 8/100\n",
      "27/27 [==============================] - 3s 112ms/step - loss: 3.9858e-05 - val_loss: 0.0020\n",
      "Epoch 9/100\n",
      "27/27 [==============================] - 3s 113ms/step - loss: 4.0086e-05 - val_loss: 0.0020\n",
      "Epoch 10/100\n",
      "27/27 [==============================] - 3s 111ms/step - loss: 3.9485e-05 - val_loss: 0.0015\n",
      "Epoch 11/100\n",
      "27/27 [==============================] - 3s 114ms/step - loss: 3.8252e-05 - val_loss: 0.0024\n",
      "Epoch 12/100\n",
      "27/27 [==============================] - 3s 114ms/step - loss: 4.0224e-05 - val_loss: 0.0021\n",
      "Epoch 13/100\n",
      "27/27 [==============================] - 3s 114ms/step - loss: 3.7379e-05 - val_loss: 0.0014\n",
      "Epoch 14/100\n",
      "27/27 [==============================] - 3s 116ms/step - loss: 3.7738e-05 - val_loss: 0.0012\n",
      "Epoch 15/100\n",
      "27/27 [==============================] - 3s 116ms/step - loss: 3.2488e-05 - val_loss: 0.0013\n",
      "Epoch 16/100\n",
      "27/27 [==============================] - 3s 117ms/step - loss: 3.5042e-05 - val_loss: 0.0011\n",
      "Epoch 17/100\n",
      "27/27 [==============================] - 3s 114ms/step - loss: 3.4909e-05 - val_loss: 0.0013\n",
      "Epoch 18/100\n",
      "27/27 [==============================] - 3s 116ms/step - loss: 3.0269e-05 - val_loss: 0.0016\n",
      "Epoch 19/100\n",
      "27/27 [==============================] - 3s 117ms/step - loss: 3.1068e-05 - val_loss: 0.0015\n",
      "Epoch 20/100\n",
      "27/27 [==============================] - 3s 117ms/step - loss: 3.2183e-05 - val_loss: 0.0012\n",
      "Epoch 21/100\n",
      "27/27 [==============================] - 3s 119ms/step - loss: 3.1493e-05 - val_loss: 8.6810e-04\n",
      "Epoch 22/100\n",
      "27/27 [==============================] - 3s 117ms/step - loss: 3.0164e-05 - val_loss: 0.0022\n",
      "Epoch 23/100\n",
      "27/27 [==============================] - 3s 116ms/step - loss: 3.3265e-05 - val_loss: 0.0011\n",
      "Epoch 24/100\n",
      "27/27 [==============================] - 3s 121ms/step - loss: 2.9242e-05 - val_loss: 0.0016\n",
      "Epoch 25/100\n",
      "27/27 [==============================] - 3s 120ms/step - loss: 2.7603e-05 - val_loss: 0.0020\n",
      "Epoch 26/100\n",
      "27/27 [==============================] - 3s 115ms/step - loss: 2.6631e-05 - val_loss: 0.0019\n",
      "Epoch 27/100\n",
      "27/27 [==============================] - 3s 117ms/step - loss: 3.3823e-05 - val_loss: 0.0010\n",
      "Epoch 28/100\n",
      "27/27 [==============================] - 3s 118ms/step - loss: 3.4020e-05 - val_loss: 0.0019\n",
      "Epoch 29/100\n",
      "27/27 [==============================] - 3s 115ms/step - loss: 2.6967e-05 - val_loss: 0.0013\n",
      "Epoch 30/100\n",
      "27/27 [==============================] - 3s 116ms/step - loss: 2.6338e-05 - val_loss: 0.0010\n",
      "Epoch 31/100\n",
      "27/27 [==============================] - 3s 119ms/step - loss: 2.7377e-05 - val_loss: 0.0014\n",
      "Epoch 32/100\n",
      "27/27 [==============================] - 3s 114ms/step - loss: 2.5537e-05 - val_loss: 0.0013\n",
      "Epoch 33/100\n",
      "27/27 [==============================] - 3s 118ms/step - loss: 2.6308e-05 - val_loss: 8.2635e-04\n",
      "Epoch 34/100\n",
      "27/27 [==============================] - 3s 119ms/step - loss: 2.3002e-05 - val_loss: 6.5011e-04\n",
      "Epoch 35/100\n",
      "27/27 [==============================] - 3s 114ms/step - loss: 2.3810e-05 - val_loss: 8.6195e-04\n",
      "Epoch 36/100\n",
      "27/27 [==============================] - 3s 116ms/step - loss: 2.3701e-05 - val_loss: 6.1856e-04\n",
      "Epoch 37/100\n",
      "27/27 [==============================] - 3s 118ms/step - loss: 2.4032e-05 - val_loss: 0.0015\n",
      "Epoch 38/100\n",
      "27/27 [==============================] - 3s 114ms/step - loss: 2.2556e-05 - val_loss: 0.0018\n",
      "Epoch 39/100\n",
      "27/27 [==============================] - 3s 115ms/step - loss: 2.2930e-05 - val_loss: 0.0013\n",
      "Epoch 40/100\n",
      "27/27 [==============================] - 3s 116ms/step - loss: 2.3641e-05 - val_loss: 8.2739e-04\n",
      "Epoch 41/100\n",
      "27/27 [==============================] - 3s 123ms/step - loss: 2.4756e-05 - val_loss: 0.0010\n",
      "Epoch 42/100\n",
      "27/27 [==============================] - 3s 121ms/step - loss: 2.7555e-05 - val_loss: 5.8638e-04\n",
      "Epoch 43/100\n",
      "27/27 [==============================] - 3s 114ms/step - loss: 2.6404e-05 - val_loss: 0.0016\n",
      "Epoch 44/100\n",
      "27/27 [==============================] - 3s 116ms/step - loss: 2.0924e-05 - val_loss: 0.0011\n",
      "Epoch 45/100\n",
      "27/27 [==============================] - 3s 116ms/step - loss: 2.3810e-05 - val_loss: 5.1994e-04\n",
      "Epoch 46/100\n",
      "27/27 [==============================] - 3s 115ms/step - loss: 2.1199e-05 - val_loss: 0.0013\n",
      "Epoch 47/100\n",
      "27/27 [==============================] - 3s 117ms/step - loss: 2.0011e-05 - val_loss: 6.5804e-04\n",
      "Epoch 48/100\n",
      "27/27 [==============================] - 3s 114ms/step - loss: 2.0479e-05 - val_loss: 5.2845e-04\n",
      "Epoch 49/100\n",
      "27/27 [==============================] - 3s 115ms/step - loss: 2.0569e-05 - val_loss: 8.4890e-04\n",
      "Epoch 50/100\n",
      "27/27 [==============================] - 3s 115ms/step - loss: 1.9977e-05 - val_loss: 0.0011\n",
      "Epoch 51/100\n",
      "27/27 [==============================] - 3s 113ms/step - loss: 1.9667e-05 - val_loss: 6.5919e-04\n",
      "Epoch 52/100\n",
      "27/27 [==============================] - 3s 115ms/step - loss: 1.9359e-05 - val_loss: 7.3940e-04\n",
      "Epoch 53/100\n",
      "27/27 [==============================] - 3s 116ms/step - loss: 1.9814e-05 - val_loss: 9.6871e-04\n",
      "Epoch 54/100\n",
      "27/27 [==============================] - 3s 114ms/step - loss: 1.9951e-05 - val_loss: 4.9213e-04\n",
      "Epoch 55/100\n",
      "27/27 [==============================] - 3s 113ms/step - loss: 2.0001e-05 - val_loss: 4.5054e-04\n",
      "Epoch 56/100\n",
      "27/27 [==============================] - 3s 115ms/step - loss: 1.9848e-05 - val_loss: 6.4558e-04\n",
      "Epoch 57/100\n",
      "27/27 [==============================] - 3s 115ms/step - loss: 1.9186e-05 - val_loss: 6.8122e-04\n",
      "Epoch 58/100\n",
      "27/27 [==============================] - 3s 113ms/step - loss: 1.7532e-05 - val_loss: 5.3080e-04\n",
      "Epoch 59/100\n",
      "27/27 [==============================] - 3s 117ms/step - loss: 1.9280e-05 - val_loss: 5.2885e-04\n",
      "Epoch 60/100\n",
      "27/27 [==============================] - 3s 113ms/step - loss: 1.8115e-05 - val_loss: 7.2618e-04\n",
      "Epoch 61/100\n",
      "27/27 [==============================] - 3s 116ms/step - loss: 1.8228e-05 - val_loss: 8.0531e-04\n",
      "Epoch 62/100\n",
      "27/27 [==============================] - 3s 114ms/step - loss: 2.6243e-05 - val_loss: 4.3945e-04\n",
      "Epoch 63/100\n",
      "27/27 [==============================] - 3s 115ms/step - loss: 2.3082e-05 - val_loss: 4.3836e-04\n",
      "Epoch 64/100\n",
      "27/27 [==============================] - 3s 116ms/step - loss: 1.7012e-05 - val_loss: 4.6217e-04\n",
      "Epoch 65/100\n",
      "27/27 [==============================] - 3s 116ms/step - loss: 1.7404e-05 - val_loss: 4.1040e-04\n",
      "Epoch 66/100\n",
      "27/27 [==============================] - 3s 114ms/step - loss: 1.6603e-05 - val_loss: 5.0262e-04\n",
      "Epoch 67/100\n",
      "27/27 [==============================] - 3s 117ms/step - loss: 1.5874e-05 - val_loss: 7.5551e-04\n",
      "Epoch 68/100\n",
      "27/27 [==============================] - 3s 114ms/step - loss: 1.6595e-05 - val_loss: 4.2572e-04\n",
      "Epoch 69/100\n",
      "27/27 [==============================] - 3s 116ms/step - loss: 1.6823e-05 - val_loss: 5.0857e-04\n",
      "Epoch 70/100\n",
      "27/27 [==============================] - 3s 116ms/step - loss: 1.6303e-05 - val_loss: 4.8044e-04\n",
      "Epoch 71/100\n",
      "27/27 [==============================] - 3s 118ms/step - loss: 1.5214e-05 - val_loss: 7.7982e-04\n",
      "Epoch 72/100\n",
      "27/27 [==============================] - 3s 116ms/step - loss: 1.5201e-05 - val_loss: 6.1779e-04\n",
      "Epoch 73/100\n",
      "27/27 [==============================] - 3s 115ms/step - loss: 1.5769e-05 - val_loss: 4.6313e-04\n",
      "Epoch 74/100\n",
      "27/27 [==============================] - 3s 116ms/step - loss: 1.8389e-05 - val_loss: 8.0052e-04\n",
      "Epoch 75/100\n",
      "27/27 [==============================] - 3s 116ms/step - loss: 1.6132e-05 - val_loss: 4.1758e-04\n",
      "Epoch 76/100\n",
      "27/27 [==============================] - 3s 115ms/step - loss: 1.8322e-05 - val_loss: 3.1144e-04\n",
      "Epoch 77/100\n"
     ]
    },
    {
     "name": "stdout",
     "output_type": "stream",
     "text": [
      "27/27 [==============================] - 3s 112ms/step - loss: 1.4853e-05 - val_loss: 3.1536e-04\n",
      "Epoch 78/100\n",
      "27/27 [==============================] - 3s 114ms/step - loss: 1.4421e-05 - val_loss: 4.2426e-04\n",
      "Epoch 79/100\n",
      "27/27 [==============================] - 3s 112ms/step - loss: 1.3704e-05 - val_loss: 2.9069e-04\n",
      "Epoch 80/100\n",
      "27/27 [==============================] - 3s 116ms/step - loss: 1.3860e-05 - val_loss: 4.7209e-04\n",
      "Epoch 81/100\n",
      "27/27 [==============================] - 3s 120ms/step - loss: 1.3687e-05 - val_loss: 4.1148e-04\n",
      "Epoch 82/100\n",
      "27/27 [==============================] - 3s 126ms/step - loss: 1.3348e-05 - val_loss: 2.8417e-04\n",
      "Epoch 83/100\n",
      "27/27 [==============================] - 3s 118ms/step - loss: 1.3089e-05 - val_loss: 3.5873e-04\n",
      "Epoch 84/100\n",
      "27/27 [==============================] - 3s 118ms/step - loss: 1.2816e-05 - val_loss: 2.8182e-04\n",
      "Epoch 85/100\n",
      "27/27 [==============================] - 3s 118ms/step - loss: 1.3070e-05 - val_loss: 2.6629e-04\n",
      "Epoch 86/100\n",
      "27/27 [==============================] - 3s 122ms/step - loss: 1.3605e-05 - val_loss: 2.7565e-04\n",
      "Epoch 87/100\n",
      "27/27 [==============================] - 3s 120ms/step - loss: 1.3643e-05 - val_loss: 6.4274e-04\n",
      "Epoch 88/100\n",
      "27/27 [==============================] - 3s 122ms/step - loss: 1.2825e-05 - val_loss: 4.1254e-04\n",
      "Epoch 89/100\n",
      "27/27 [==============================] - 3s 125ms/step - loss: 1.3294e-05 - val_loss: 3.3706e-04\n",
      "Epoch 90/100\n",
      "27/27 [==============================] - 3s 125ms/step - loss: 1.3398e-05 - val_loss: 3.9792e-04\n",
      "Epoch 91/100\n",
      "27/27 [==============================] - 4s 130ms/step - loss: 1.4494e-05 - val_loss: 2.5709e-04\n",
      "Epoch 92/100\n",
      "27/27 [==============================] - 3s 115ms/step - loss: 1.4754e-05 - val_loss: 5.7629e-04\n",
      "Epoch 93/100\n",
      "27/27 [==============================] - 4s 133ms/step - loss: 1.3613e-05 - val_loss: 6.1080e-04\n",
      "Epoch 94/100\n",
      "27/27 [==============================] - 4s 148ms/step - loss: 1.1385e-05 - val_loss: 4.0185e-04\n",
      "Epoch 95/100\n",
      "27/27 [==============================] - 4s 133ms/step - loss: 1.1123e-05 - val_loss: 5.1961e-04\n",
      "Epoch 96/100\n",
      "27/27 [==============================] - 4s 147ms/step - loss: 1.1453e-05 - val_loss: 2.5070e-04\n",
      "Epoch 97/100\n",
      "27/27 [==============================] - 4s 144ms/step - loss: 1.1964e-05 - val_loss: 2.3493e-04\n",
      "Epoch 98/100\n",
      "27/27 [==============================] - 4s 129ms/step - loss: 1.0869e-05 - val_loss: 4.4389e-04\n",
      "Epoch 99/100\n",
      "27/27 [==============================] - 3s 118ms/step - loss: 1.2043e-05 - val_loss: 3.2155e-04\n",
      "Epoch 100/100\n",
      "27/27 [==============================] - 3s 124ms/step - loss: 1.2364e-05 - val_loss: 7.5267e-04\n"
     ]
    },
    {
     "data": {
      "text/plain": [
       "<keras.callbacks.History at 0x134404bb0>"
      ]
     },
     "execution_count": 3,
     "metadata": {},
     "output_type": "execute_result"
    }
   ],
   "source": [
    "model.fit(X_train,y_train,validation_data=(X_test,ytest),epochs=100,batch_size=64,verbose=1)"
   ]
  },
  {
   "cell_type": "code",
   "execution_count": null,
   "id": "2d8f36e7",
   "metadata": {},
   "outputs": [],
   "source": [
    "import tensorflow as tf"
   ]
  },
  {
   "cell_type": "code",
   "execution_count": 4,
   "id": "84b93f26",
   "metadata": {},
   "outputs": [],
   "source": [
    "### Lets Do the prediction and check performance metrics\n",
    "train_predict=model.predict(X_train)\n",
    "test_predict=model.predict(X_test)\n",
    "\n",
    "##Transformback to original form\n",
    "train_predict=scaler.inverse_transform(train_predict)\n",
    "test_predict=scaler.inverse_transform(test_predict)"
   ]
  },
  {
   "cell_type": "code",
   "execution_count": 5,
   "id": "c95b8c86",
   "metadata": {},
   "outputs": [
    {
     "data": {
      "text/plain": [
       "25.562371260494146"
      ]
     },
     "execution_count": 5,
     "metadata": {},
     "output_type": "execute_result"
    }
   ],
   "source": [
    "### Calculate RMSE performance metrics\n",
    "import math\n",
    "from sklearn.metrics import mean_squared_error\n",
    "math.sqrt(mean_squared_error(y_train,train_predict))"
   ]
  },
  {
   "cell_type": "code",
   "execution_count": 6,
   "id": "1c7365d3",
   "metadata": {},
   "outputs": [
    {
     "data": {
      "text/plain": [
       "94.76247882710258"
      ]
     },
     "execution_count": 6,
     "metadata": {},
     "output_type": "execute_result"
    }
   ],
   "source": [
    "### Test Data RMSE\n",
    "math.sqrt(mean_squared_error(ytest,test_predict))"
   ]
  },
  {
   "cell_type": "code",
   "execution_count": 9,
   "id": "f5925786",
   "metadata": {},
   "outputs": [
    {
     "data": {
      "image/png": "[encoded data removed]",
      "text/plain": [
       "<Figure size 432x288 with 1 Axes>"
      ]
     },
     "metadata": {
      "needs_background": "light"
     },
     "output_type": "display_data"
    }
   ],
   "source": [
    "### Plotting \n",
    "import numpy as np\n",
    "# shift train predictions for plotting\n",
    "look_back=100\n",
    "trainPredictPlot = np.empty_like(df1)\n",
    "trainPredictPlot[:, :] = np.nan\n",
    "trainPredictPlot[look_back:len(train_predict)+look_back, :] = train_predict\n",
    "# shift test predictions for plotting\n",
    "testPredictPlot = np.empty_like(df1)\n",
    "testPredictPlot[:, :] = np.nan\n",
    "testPredictPlot[len(train_predict)+(look_back*2)+1:len(df1)-1, :] = test_predict\n",
    "# plot baseline and predictions\n",
    "plt.plot(scaler.inverse_transform(df1))\n",
    "plt.plot(trainPredictPlot)\n",
    "plt.plot(testPredictPlot)\n",
    "plt.show()"
   ]
  },
  {
   "cell_type": "code",
   "execution_count": null,
   "id": "ad9a5c17",
   "metadata": {},
   "outputs": [],
   "source": []
  }
 ],
 "metadata": {
  "kernelspec": {
   "display_name": "Python 3 (ipykernel)",
   "language": "python",
   "name": "python3"
  },
  "language_info": {
   "codemirror_mode": {
    "name": "ipython",
    "version": 3
   },
   "file_extension": ".py",
   "mimetype": "text/x-python",
   "name": "python",
   "nbconvert_exporter": "python",
   "pygments_lexer": "ipython3",
   "version": "3.10.1"
  }
 },
 "nbformat": 4,
 "nbformat_minor": 5
}
